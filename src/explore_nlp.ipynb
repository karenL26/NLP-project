{
  "cells": [
    {
      "cell_type": "markdown",
      "metadata": {
        "id": "4pr5L__QTSOx"
      },
      "source": [
        "# NLP Project\n",
        "\n",
        "In this project, it will be build a spam detector using URLs instead of emails."
      ]
    },
    {
      "cell_type": "markdown",
      "metadata": {
        "id": "ZswoKBCipn4P"
      },
      "source": [
        "## Importing Libraries"
      ]
    },
    {
      "cell_type": "code",
      "execution_count": 1,
      "metadata": {
        "colab": {
          "base_uri": "https://localhost:8080/"
        },
        "id": "c7CDFNFCTPGC",
        "outputId": "8a77848e-2c78-4f8f-fbd6-16e6f5db55d8"
      },
      "outputs": [
        {
          "name": "stderr",
          "output_type": "stream",
          "text": [
            "[nltk_data] Downloading package stopwords to /root/nltk_data...\n",
            "[nltk_data]   Package stopwords is already up-to-date!\n"
          ]
        },
        {
          "data": {
            "text/plain": [
              "True"
            ]
          },
          "execution_count": 1,
          "metadata": {},
          "output_type": "execute_result"
        }
      ],
      "source": [
        "### Load libraries and modules ###\n",
        "# Dataframes and matrices ----------------------------------------------\n",
        "import pandas as pd\n",
        "import numpy as np\n",
        "import regex as re\n",
        "import nltk\n",
        "# Graphics -------------------------------------------------------------\n",
        "import matplotlib.pyplot as plt\n",
        "from wordcloud import WordCloud\n",
        "# Machine learning -----------------------------------------------------\n",
        "from sklearn.model_selection import train_test_split\n",
        "from sklearn.feature_extraction.text import CountVectorizer\n",
        "from sklearn import model_selection, svm\n",
        "# Metrics --------------------------------------------------------------\n",
        "from sklearn.metrics import confusion_matrix\n",
        "from sklearn.metrics import ConfusionMatrixDisplay\n",
        "from sklearn.metrics import classification_report\n",
        "from sklearn.metrics import mean_absolute_error\n",
        "from sklearn.metrics import accuracy_score, precision_score, recall_score\n",
        "\n",
        "nltk.download('stopwords')"
      ]
    },
    {
      "cell_type": "markdown",
      "metadata": {
        "id": "2ZCr9f_bpyI4"
      },
      "source": [
        "## Loading the dataset"
      ]
    },
    {
      "cell_type": "code",
      "execution_count": 2,
      "metadata": {
        "id": "ZQm7jpKMTfmv"
      },
      "outputs": [],
      "source": [
        "# Loading the dataset\n",
        "df_raw = pd.read_csv('https://raw.githubusercontent.com/4GeeksAcademy/NLP-project-tutorial/main/url_spam.csv')\n",
        "# Create a copy of the original dataset\n",
        "df = df_raw.copy()"
      ]
    },
    {
      "cell_type": "markdown",
      "metadata": {
        "id": "TiwjseIdp8c3"
      },
      "source": [
        "## Data Exploration\n",
        "\n"
      ]
    },
    {
      "cell_type": "code",
      "execution_count": 3,
      "metadata": {
        "colab": {
          "base_uri": "https://localhost:8080/"
        },
        "id": "ZGcrkqJNvt21",
        "outputId": "27f4fc3d-28d6-4d03-f890-8d2d07a199e6"
      },
      "outputs": [
        {
          "name": "stdout",
          "output_type": "stream",
          "text": [
            "<class 'pandas.core.frame.DataFrame'>\n",
            "RangeIndex: 2999 entries, 0 to 2998\n",
            "Data columns (total 2 columns):\n",
            " #   Column   Non-Null Count  Dtype \n",
            "---  ------   --------------  ----- \n",
            " 0   url      2999 non-null   object\n",
            " 1   is_spam  2999 non-null   bool  \n",
            "dtypes: bool(1), object(1)\n",
            "memory usage: 26.5+ KB\n"
          ]
        }
      ],
      "source": [
        "df_raw.info()"
      ]
    },
    {
      "cell_type": "code",
      "execution_count": 4,
      "metadata": {
        "colab": {
          "base_uri": "https://localhost:8080/",
          "height": 363
        },
        "id": "AHUPkAz2vx13",
        "outputId": "5d0fc8cc-8afa-4f8b-c16c-3b6071a8b8c9"
      },
      "outputs": [
        {
          "data": {
            "text/html": [
              "\n",
              "  <div id=\"df-b6539916-816a-4e07-a4a2-96cab49680ab\">\n",
              "    <div class=\"colab-df-container\">\n",
              "      <div>\n",
              "<style scoped>\n",
              "    .dataframe tbody tr th:only-of-type {\n",
              "        vertical-align: middle;\n",
              "    }\n",
              "\n",
              "    .dataframe tbody tr th {\n",
              "        vertical-align: top;\n",
              "    }\n",
              "\n",
              "    .dataframe thead th {\n",
              "        text-align: right;\n",
              "    }\n",
              "</style>\n",
              "<table border=\"1\" class=\"dataframe\">\n",
              "  <thead>\n",
              "    <tr style=\"text-align: right;\">\n",
              "      <th></th>\n",
              "      <th>url</th>\n",
              "      <th>is_spam</th>\n",
              "    </tr>\n",
              "  </thead>\n",
              "  <tbody>\n",
              "    <tr>\n",
              "      <th>2709</th>\n",
              "      <td>https://bigspaceship.us9.list-manage.com/profile</td>\n",
              "      <td>True</td>\n",
              "    </tr>\n",
              "    <tr>\n",
              "      <th>511</th>\n",
              "      <td>https://www.axios.com/texas-coronavirus-cases-...</td>\n",
              "      <td>False</td>\n",
              "    </tr>\n",
              "    <tr>\n",
              "      <th>243</th>\n",
              "      <td>https://www.politico.com/news/2020/06/21/takea...</td>\n",
              "      <td>False</td>\n",
              "    </tr>\n",
              "    <tr>\n",
              "      <th>1698</th>\n",
              "      <td>https://futurism.com/the-byte/michigan-illegal...</td>\n",
              "      <td>False</td>\n",
              "    </tr>\n",
              "    <tr>\n",
              "      <th>1914</th>\n",
              "      <td>https://www.wired.co.uk/article/fbi-forensic-p...</td>\n",
              "      <td>False</td>\n",
              "    </tr>\n",
              "    <tr>\n",
              "      <th>1843</th>\n",
              "      <td>https://www.nytimes.com/2020/06/18/us/american...</td>\n",
              "      <td>False</td>\n",
              "    </tr>\n",
              "    <tr>\n",
              "      <th>2700</th>\n",
              "      <td>https://www.fastcompany.com/90522982/walmart-y...</td>\n",
              "      <td>False</td>\n",
              "    </tr>\n",
              "    <tr>\n",
              "      <th>2448</th>\n",
              "      <td>https://dittowords.com/</td>\n",
              "      <td>False</td>\n",
              "    </tr>\n",
              "    <tr>\n",
              "      <th>2604</th>\n",
              "      <td>https://www.morningbrew.com/daily/stories/</td>\n",
              "      <td>True</td>\n",
              "    </tr>\n",
              "    <tr>\n",
              "      <th>696</th>\n",
              "      <td>https://deadline.com/2020/06/terry-crews-says-...</td>\n",
              "      <td>False</td>\n",
              "    </tr>\n",
              "  </tbody>\n",
              "</table>\n",
              "</div>\n",
              "      <button class=\"colab-df-convert\" onclick=\"convertToInteractive('df-b6539916-816a-4e07-a4a2-96cab49680ab')\"\n",
              "              title=\"Convert this dataframe to an interactive table.\"\n",
              "              style=\"display:none;\">\n",
              "        \n",
              "  <svg xmlns=\"http://www.w3.org/2000/svg\" height=\"24px\"viewBox=\"0 0 24 24\"\n",
              "       width=\"24px\">\n",
              "    <path d=\"M0 0h24v24H0V0z\" fill=\"none\"/>\n",
              "    <path d=\"M18.56 5.44l.94 2.06.94-2.06 2.06-.94-2.06-.94-.94-2.06-.94 2.06-2.06.94zm-11 1L8.5 8.5l.94-2.06 2.06-.94-2.06-.94L8.5 2.5l-.94 2.06-2.06.94zm10 10l.94 2.06.94-2.06 2.06-.94-2.06-.94-.94-2.06-.94 2.06-2.06.94z\"/><path d=\"M17.41 7.96l-1.37-1.37c-.4-.4-.92-.59-1.43-.59-.52 0-1.04.2-1.43.59L10.3 9.45l-7.72 7.72c-.78.78-.78 2.05 0 2.83L4 21.41c.39.39.9.59 1.41.59.51 0 1.02-.2 1.41-.59l7.78-7.78 2.81-2.81c.8-.78.8-2.07 0-2.86zM5.41 20L4 18.59l7.72-7.72 1.47 1.35L5.41 20z\"/>\n",
              "  </svg>\n",
              "      </button>\n",
              "      \n",
              "  <style>\n",
              "    .colab-df-container {\n",
              "      display:flex;\n",
              "      flex-wrap:wrap;\n",
              "      gap: 12px;\n",
              "    }\n",
              "\n",
              "    .colab-df-convert {\n",
              "      background-color: #E8F0FE;\n",
              "      border: none;\n",
              "      border-radius: 50%;\n",
              "      cursor: pointer;\n",
              "      display: none;\n",
              "      fill: #1967D2;\n",
              "      height: 32px;\n",
              "      padding: 0 0 0 0;\n",
              "      width: 32px;\n",
              "    }\n",
              "\n",
              "    .colab-df-convert:hover {\n",
              "      background-color: #E2EBFA;\n",
              "      box-shadow: 0px 1px 2px rgba(60, 64, 67, 0.3), 0px 1px 3px 1px rgba(60, 64, 67, 0.15);\n",
              "      fill: #174EA6;\n",
              "    }\n",
              "\n",
              "    [theme=dark] .colab-df-convert {\n",
              "      background-color: #3B4455;\n",
              "      fill: #D2E3FC;\n",
              "    }\n",
              "\n",
              "    [theme=dark] .colab-df-convert:hover {\n",
              "      background-color: #434B5C;\n",
              "      box-shadow: 0px 1px 3px 1px rgba(0, 0, 0, 0.15);\n",
              "      filter: drop-shadow(0px 1px 2px rgba(0, 0, 0, 0.3));\n",
              "      fill: #FFFFFF;\n",
              "    }\n",
              "  </style>\n",
              "\n",
              "      <script>\n",
              "        const buttonEl =\n",
              "          document.querySelector('#df-b6539916-816a-4e07-a4a2-96cab49680ab button.colab-df-convert');\n",
              "        buttonEl.style.display =\n",
              "          google.colab.kernel.accessAllowed ? 'block' : 'none';\n",
              "\n",
              "        async function convertToInteractive(key) {\n",
              "          const element = document.querySelector('#df-b6539916-816a-4e07-a4a2-96cab49680ab');\n",
              "          const dataTable =\n",
              "            await google.colab.kernel.invokeFunction('convertToInteractive',\n",
              "                                                     [key], {});\n",
              "          if (!dataTable) return;\n",
              "\n",
              "          const docLinkHtml = 'Like what you see? Visit the ' +\n",
              "            '<a target=\"_blank\" href=https://colab.research.google.com/notebooks/data_table.ipynb>data table notebook</a>'\n",
              "            + ' to learn more about interactive tables.';\n",
              "          element.innerHTML = '';\n",
              "          dataTable['output_type'] = 'display_data';\n",
              "          await google.colab.output.renderOutput(dataTable, element);\n",
              "          const docLink = document.createElement('div');\n",
              "          docLink.innerHTML = docLinkHtml;\n",
              "          element.appendChild(docLink);\n",
              "        }\n",
              "      </script>\n",
              "    </div>\n",
              "  </div>\n",
              "  "
            ],
            "text/plain": [
              "                                                    url  is_spam\n",
              "2709   https://bigspaceship.us9.list-manage.com/profile     True\n",
              "511   https://www.axios.com/texas-coronavirus-cases-...    False\n",
              "243   https://www.politico.com/news/2020/06/21/takea...    False\n",
              "1698  https://futurism.com/the-byte/michigan-illegal...    False\n",
              "1914  https://www.wired.co.uk/article/fbi-forensic-p...    False\n",
              "1843  https://www.nytimes.com/2020/06/18/us/american...    False\n",
              "2700  https://www.fastcompany.com/90522982/walmart-y...    False\n",
              "2448                            https://dittowords.com/    False\n",
              "2604         https://www.morningbrew.com/daily/stories/     True\n",
              "696   https://deadline.com/2020/06/terry-crews-says-...    False"
            ]
          },
          "execution_count": 4,
          "metadata": {},
          "output_type": "execute_result"
        }
      ],
      "source": [
        "df_raw.sample(10)"
      ]
    },
    {
      "cell_type": "code",
      "execution_count": 5,
      "metadata": {
        "colab": {
          "base_uri": "https://localhost:8080/"
        },
        "id": "oSTPfOtWhZv2",
        "outputId": "a8382d1c-ea57-4a38-aece-e2cb7319c2db"
      },
      "outputs": [
        {
          "data": {
            "text/plain": [
              "False    2303\n",
              "True      696\n",
              "Name: is_spam, dtype: int64"
            ]
          },
          "execution_count": 5,
          "metadata": {},
          "output_type": "execute_result"
        }
      ],
      "source": [
        "df_raw['is_spam'].value_counts()"
      ]
    },
    {
      "cell_type": "markdown",
      "metadata": {
        "id": "j71_Ci8Dldc-"
      },
      "source": [
        "### Null or duplicated values check"
      ]
    },
    {
      "cell_type": "code",
      "execution_count": 6,
      "metadata": {
        "colab": {
          "base_uri": "https://localhost:8080/"
        },
        "id": "MlXMyrSxlg6N",
        "outputId": "ff3fc1e6-4335-4f2d-d64d-879987a9b7b8"
      },
      "outputs": [
        {
          "name": "stdout",
          "output_type": "stream",
          "text": [
            "Null values:\n",
            " url        0\n",
            "is_spam    0\n",
            "dtype: int64\n",
            "\n",
            "\n",
            "There is any duplicated values?  True\n"
          ]
        }
      ],
      "source": [
        "print(\"Null values:\\n\",df_raw.isnull().sum().sort_values(ascending=False))\n",
        "print('\\n')\n",
        "print(\"There is any duplicated values? \",df_raw.duplicated().any())"
      ]
    },
    {
      "cell_type": "code",
      "execution_count": 7,
      "metadata": {
        "colab": {
          "base_uri": "https://localhost:8080/"
        },
        "id": "70qNhZhpmrO5",
        "outputId": "77e55ef2-f99e-46a5-ad6e-3cba600041cf"
      },
      "outputs": [
        {
          "data": {
            "text/plain": [
              "630"
            ]
          },
          "execution_count": 7,
          "metadata": {},
          "output_type": "execute_result"
        }
      ],
      "source": [
        "# How many duplicated entries?\n",
        "len(df_raw[df_raw.duplicated() == True])"
      ]
    },
    {
      "cell_type": "markdown",
      "metadata": {
        "id": "YPRxMLXHJklF"
      },
      "source": [
        "## Data transformation and processing"
      ]
    },
    {
      "cell_type": "markdown",
      "metadata": {
        "id": "afIKygFbn9zf"
      },
      "source": [
        "### Transformation"
      ]
    },
    {
      "cell_type": "markdown",
      "metadata": {
        "id": "00Ni7YOlhuPF"
      },
      "source": [
        "#### Encoding of the target variable"
      ]
    },
    {
      "cell_type": "code",
      "execution_count": 8,
      "metadata": {
        "id": "fuzk7XiS1M_c"
      },
      "outputs": [],
      "source": [
        "# Encoding of the target variable\n",
        "df['is_spam'] = df['is_spam'].map({True : 1, False: 0})"
      ]
    },
    {
      "cell_type": "code",
      "execution_count": 9,
      "metadata": {
        "colab": {
          "base_uri": "https://localhost:8080/",
          "height": 206
        },
        "id": "IGhEImz11j9T",
        "outputId": "a7950d7d-4342-4881-f13e-1c228f922ad5"
      },
      "outputs": [
        {
          "data": {
            "text/html": [
              "\n",
              "  <div id=\"df-3cfb3d37-909e-4bf3-af5f-ba7127d3ab1d\">\n",
              "    <div class=\"colab-df-container\">\n",
              "      <div>\n",
              "<style scoped>\n",
              "    .dataframe tbody tr th:only-of-type {\n",
              "        vertical-align: middle;\n",
              "    }\n",
              "\n",
              "    .dataframe tbody tr th {\n",
              "        vertical-align: top;\n",
              "    }\n",
              "\n",
              "    .dataframe thead th {\n",
              "        text-align: right;\n",
              "    }\n",
              "</style>\n",
              "<table border=\"1\" class=\"dataframe\">\n",
              "  <thead>\n",
              "    <tr style=\"text-align: right;\">\n",
              "      <th></th>\n",
              "      <th>url</th>\n",
              "      <th>is_spam</th>\n",
              "    </tr>\n",
              "  </thead>\n",
              "  <tbody>\n",
              "    <tr>\n",
              "      <th>0</th>\n",
              "      <td>https://briefingday.us8.list-manage.com/unsubs...</td>\n",
              "      <td>1</td>\n",
              "    </tr>\n",
              "    <tr>\n",
              "      <th>1</th>\n",
              "      <td>https://www.hvper.com/</td>\n",
              "      <td>1</td>\n",
              "    </tr>\n",
              "    <tr>\n",
              "      <th>2</th>\n",
              "      <td>https://briefingday.com/m/v4n3i4f3</td>\n",
              "      <td>1</td>\n",
              "    </tr>\n",
              "    <tr>\n",
              "      <th>3</th>\n",
              "      <td>https://briefingday.com/n/20200618/m#commentform</td>\n",
              "      <td>0</td>\n",
              "    </tr>\n",
              "    <tr>\n",
              "      <th>4</th>\n",
              "      <td>https://briefingday.com/fan</td>\n",
              "      <td>1</td>\n",
              "    </tr>\n",
              "  </tbody>\n",
              "</table>\n",
              "</div>\n",
              "      <button class=\"colab-df-convert\" onclick=\"convertToInteractive('df-3cfb3d37-909e-4bf3-af5f-ba7127d3ab1d')\"\n",
              "              title=\"Convert this dataframe to an interactive table.\"\n",
              "              style=\"display:none;\">\n",
              "        \n",
              "  <svg xmlns=\"http://www.w3.org/2000/svg\" height=\"24px\"viewBox=\"0 0 24 24\"\n",
              "       width=\"24px\">\n",
              "    <path d=\"M0 0h24v24H0V0z\" fill=\"none\"/>\n",
              "    <path d=\"M18.56 5.44l.94 2.06.94-2.06 2.06-.94-2.06-.94-.94-2.06-.94 2.06-2.06.94zm-11 1L8.5 8.5l.94-2.06 2.06-.94-2.06-.94L8.5 2.5l-.94 2.06-2.06.94zm10 10l.94 2.06.94-2.06 2.06-.94-2.06-.94-.94-2.06-.94 2.06-2.06.94z\"/><path d=\"M17.41 7.96l-1.37-1.37c-.4-.4-.92-.59-1.43-.59-.52 0-1.04.2-1.43.59L10.3 9.45l-7.72 7.72c-.78.78-.78 2.05 0 2.83L4 21.41c.39.39.9.59 1.41.59.51 0 1.02-.2 1.41-.59l7.78-7.78 2.81-2.81c.8-.78.8-2.07 0-2.86zM5.41 20L4 18.59l7.72-7.72 1.47 1.35L5.41 20z\"/>\n",
              "  </svg>\n",
              "      </button>\n",
              "      \n",
              "  <style>\n",
              "    .colab-df-container {\n",
              "      display:flex;\n",
              "      flex-wrap:wrap;\n",
              "      gap: 12px;\n",
              "    }\n",
              "\n",
              "    .colab-df-convert {\n",
              "      background-color: #E8F0FE;\n",
              "      border: none;\n",
              "      border-radius: 50%;\n",
              "      cursor: pointer;\n",
              "      display: none;\n",
              "      fill: #1967D2;\n",
              "      height: 32px;\n",
              "      padding: 0 0 0 0;\n",
              "      width: 32px;\n",
              "    }\n",
              "\n",
              "    .colab-df-convert:hover {\n",
              "      background-color: #E2EBFA;\n",
              "      box-shadow: 0px 1px 2px rgba(60, 64, 67, 0.3), 0px 1px 3px 1px rgba(60, 64, 67, 0.15);\n",
              "      fill: #174EA6;\n",
              "    }\n",
              "\n",
              "    [theme=dark] .colab-df-convert {\n",
              "      background-color: #3B4455;\n",
              "      fill: #D2E3FC;\n",
              "    }\n",
              "\n",
              "    [theme=dark] .colab-df-convert:hover {\n",
              "      background-color: #434B5C;\n",
              "      box-shadow: 0px 1px 3px 1px rgba(0, 0, 0, 0.15);\n",
              "      filter: drop-shadow(0px 1px 2px rgba(0, 0, 0, 0.3));\n",
              "      fill: #FFFFFF;\n",
              "    }\n",
              "  </style>\n",
              "\n",
              "      <script>\n",
              "        const buttonEl =\n",
              "          document.querySelector('#df-3cfb3d37-909e-4bf3-af5f-ba7127d3ab1d button.colab-df-convert');\n",
              "        buttonEl.style.display =\n",
              "          google.colab.kernel.accessAllowed ? 'block' : 'none';\n",
              "\n",
              "        async function convertToInteractive(key) {\n",
              "          const element = document.querySelector('#df-3cfb3d37-909e-4bf3-af5f-ba7127d3ab1d');\n",
              "          const dataTable =\n",
              "            await google.colab.kernel.invokeFunction('convertToInteractive',\n",
              "                                                     [key], {});\n",
              "          if (!dataTable) return;\n",
              "\n",
              "          const docLinkHtml = 'Like what you see? Visit the ' +\n",
              "            '<a target=\"_blank\" href=https://colab.research.google.com/notebooks/data_table.ipynb>data table notebook</a>'\n",
              "            + ' to learn more about interactive tables.';\n",
              "          element.innerHTML = '';\n",
              "          dataTable['output_type'] = 'display_data';\n",
              "          await google.colab.output.renderOutput(dataTable, element);\n",
              "          const docLink = document.createElement('div');\n",
              "          docLink.innerHTML = docLinkHtml;\n",
              "          element.appendChild(docLink);\n",
              "        }\n",
              "      </script>\n",
              "    </div>\n",
              "  </div>\n",
              "  "
            ],
            "text/plain": [
              "                                                 url  is_spam\n",
              "0  https://briefingday.us8.list-manage.com/unsubs...        1\n",
              "1                             https://www.hvper.com/        1\n",
              "2                 https://briefingday.com/m/v4n3i4f3        1\n",
              "3   https://briefingday.com/n/20200618/m#commentform        0\n",
              "4                        https://briefingday.com/fan        1"
            ]
          },
          "execution_count": 9,
          "metadata": {},
          "output_type": "execute_result"
        }
      ],
      "source": [
        "df.head(5)"
      ]
    },
    {
      "cell_type": "markdown",
      "metadata": {
        "id": "KggzlRVAnhCF"
      },
      "source": [
        "#### Deletion of duplicated data"
      ]
    },
    {
      "cell_type": "code",
      "execution_count": 10,
      "metadata": {
        "id": "LCJ_Sf-3m2Gk"
      },
      "outputs": [],
      "source": [
        "# We remove the duplicated data\n",
        "df = df[df.duplicated() == False]"
      ]
    },
    {
      "cell_type": "code",
      "execution_count": 11,
      "metadata": {
        "colab": {
          "base_uri": "https://localhost:8080/"
        },
        "id": "ef65YEj3m3Bh",
        "outputId": "ad5c7830-79f4-49e4-8b75-70c3c62b431d"
      },
      "outputs": [
        {
          "data": {
            "text/plain": [
              "0"
            ]
          },
          "execution_count": 11,
          "metadata": {},
          "output_type": "execute_result"
        }
      ],
      "source": [
        "len(df[df.duplicated() == True])"
      ]
    },
    {
      "cell_type": "markdown",
      "metadata": {
        "id": "qHobywhqnwSS"
      },
      "source": [
        "### Processing the data"
      ]
    },
    {
      "cell_type": "code",
      "execution_count": 12,
      "metadata": {
        "id": "x2zkV5nanver"
      },
      "outputs": [],
      "source": [
        "def url_cleaner(url):\n",
        "  # Remove the start of the url, the protocol and the www\n",
        "  url_clean = re.sub(r'(https://www|https://|http://www|http://)', '', url)\n",
        "  # Remove the commas from the url\n",
        "  url_clean = re.sub(',', ' ', url_clean)\n",
        "  # url in lower case\n",
        "  url_clean = url_clean.lower()\n",
        "  # remove special characters\n",
        "  url_clean = re.sub('(\\\\W)+',' ',url_clean)\n",
        "  # remove duplicated words\n",
        "  url_clean = re.sub(r'\\b(\\w+)( \\1\\b)+', r'\\1',url_clean)\n",
        "  # remove multiple space\n",
        "  url_clean = re.sub(' +', ' ',url_clean)\n",
        "  # remove punctuation\n",
        "  url_clean = re.sub('[^a-zA-Z]', ' ', url_clean)\n",
        "  # remove tags\n",
        "  url_clean=re.sub(\"&lt;/?.*?&gt;\",\" &lt;&gt; \",url_clean)\n",
        "  return url_clean"
      ]
    },
    {
      "cell_type": "code",
      "execution_count": 13,
      "metadata": {
        "id": "sW7pzx2wsdUT"
      },
      "outputs": [],
      "source": [
        "df['url_clean'] = df['url'].apply(url_cleaner)"
      ]
    },
    {
      "cell_type": "code",
      "execution_count": 14,
      "metadata": {
        "colab": {
          "base_uri": "https://localhost:8080/",
          "height": 206
        },
        "id": "rNPk8K-dsoro",
        "outputId": "76ebf088-335f-442e-8c53-6b347d585b8e"
      },
      "outputs": [
        {
          "data": {
            "text/html": [
              "\n",
              "  <div id=\"df-445d6107-1bfb-4fd5-8eb9-e7824ac84289\">\n",
              "    <div class=\"colab-df-container\">\n",
              "      <div>\n",
              "<style scoped>\n",
              "    .dataframe tbody tr th:only-of-type {\n",
              "        vertical-align: middle;\n",
              "    }\n",
              "\n",
              "    .dataframe tbody tr th {\n",
              "        vertical-align: top;\n",
              "    }\n",
              "\n",
              "    .dataframe thead th {\n",
              "        text-align: right;\n",
              "    }\n",
              "</style>\n",
              "<table border=\"1\" class=\"dataframe\">\n",
              "  <thead>\n",
              "    <tr style=\"text-align: right;\">\n",
              "      <th></th>\n",
              "      <th>url</th>\n",
              "      <th>is_spam</th>\n",
              "      <th>url_clean</th>\n",
              "    </tr>\n",
              "  </thead>\n",
              "  <tbody>\n",
              "    <tr>\n",
              "      <th>0</th>\n",
              "      <td>https://briefingday.us8.list-manage.com/unsubs...</td>\n",
              "      <td>1</td>\n",
              "      <td>briefingday us  list manage com unsubscribe</td>\n",
              "    </tr>\n",
              "    <tr>\n",
              "      <th>1</th>\n",
              "      <td>https://www.hvper.com/</td>\n",
              "      <td>1</td>\n",
              "      <td>hvper com</td>\n",
              "    </tr>\n",
              "    <tr>\n",
              "      <th>2</th>\n",
              "      <td>https://briefingday.com/m/v4n3i4f3</td>\n",
              "      <td>1</td>\n",
              "      <td>briefingday com m v n i f</td>\n",
              "    </tr>\n",
              "    <tr>\n",
              "      <th>3</th>\n",
              "      <td>https://briefingday.com/n/20200618/m#commentform</td>\n",
              "      <td>0</td>\n",
              "      <td>briefingday com n          m commentform</td>\n",
              "    </tr>\n",
              "    <tr>\n",
              "      <th>4</th>\n",
              "      <td>https://briefingday.com/fan</td>\n",
              "      <td>1</td>\n",
              "      <td>briefingday com fan</td>\n",
              "    </tr>\n",
              "  </tbody>\n",
              "</table>\n",
              "</div>\n",
              "      <button class=\"colab-df-convert\" onclick=\"convertToInteractive('df-445d6107-1bfb-4fd5-8eb9-e7824ac84289')\"\n",
              "              title=\"Convert this dataframe to an interactive table.\"\n",
              "              style=\"display:none;\">\n",
              "        \n",
              "  <svg xmlns=\"http://www.w3.org/2000/svg\" height=\"24px\"viewBox=\"0 0 24 24\"\n",
              "       width=\"24px\">\n",
              "    <path d=\"M0 0h24v24H0V0z\" fill=\"none\"/>\n",
              "    <path d=\"M18.56 5.44l.94 2.06.94-2.06 2.06-.94-2.06-.94-.94-2.06-.94 2.06-2.06.94zm-11 1L8.5 8.5l.94-2.06 2.06-.94-2.06-.94L8.5 2.5l-.94 2.06-2.06.94zm10 10l.94 2.06.94-2.06 2.06-.94-2.06-.94-.94-2.06-.94 2.06-2.06.94z\"/><path d=\"M17.41 7.96l-1.37-1.37c-.4-.4-.92-.59-1.43-.59-.52 0-1.04.2-1.43.59L10.3 9.45l-7.72 7.72c-.78.78-.78 2.05 0 2.83L4 21.41c.39.39.9.59 1.41.59.51 0 1.02-.2 1.41-.59l7.78-7.78 2.81-2.81c.8-.78.8-2.07 0-2.86zM5.41 20L4 18.59l7.72-7.72 1.47 1.35L5.41 20z\"/>\n",
              "  </svg>\n",
              "      </button>\n",
              "      \n",
              "  <style>\n",
              "    .colab-df-container {\n",
              "      display:flex;\n",
              "      flex-wrap:wrap;\n",
              "      gap: 12px;\n",
              "    }\n",
              "\n",
              "    .colab-df-convert {\n",
              "      background-color: #E8F0FE;\n",
              "      border: none;\n",
              "      border-radius: 50%;\n",
              "      cursor: pointer;\n",
              "      display: none;\n",
              "      fill: #1967D2;\n",
              "      height: 32px;\n",
              "      padding: 0 0 0 0;\n",
              "      width: 32px;\n",
              "    }\n",
              "\n",
              "    .colab-df-convert:hover {\n",
              "      background-color: #E2EBFA;\n",
              "      box-shadow: 0px 1px 2px rgba(60, 64, 67, 0.3), 0px 1px 3px 1px rgba(60, 64, 67, 0.15);\n",
              "      fill: #174EA6;\n",
              "    }\n",
              "\n",
              "    [theme=dark] .colab-df-convert {\n",
              "      background-color: #3B4455;\n",
              "      fill: #D2E3FC;\n",
              "    }\n",
              "\n",
              "    [theme=dark] .colab-df-convert:hover {\n",
              "      background-color: #434B5C;\n",
              "      box-shadow: 0px 1px 3px 1px rgba(0, 0, 0, 0.15);\n",
              "      filter: drop-shadow(0px 1px 2px rgba(0, 0, 0, 0.3));\n",
              "      fill: #FFFFFF;\n",
              "    }\n",
              "  </style>\n",
              "\n",
              "      <script>\n",
              "        const buttonEl =\n",
              "          document.querySelector('#df-445d6107-1bfb-4fd5-8eb9-e7824ac84289 button.colab-df-convert');\n",
              "        buttonEl.style.display =\n",
              "          google.colab.kernel.accessAllowed ? 'block' : 'none';\n",
              "\n",
              "        async function convertToInteractive(key) {\n",
              "          const element = document.querySelector('#df-445d6107-1bfb-4fd5-8eb9-e7824ac84289');\n",
              "          const dataTable =\n",
              "            await google.colab.kernel.invokeFunction('convertToInteractive',\n",
              "                                                     [key], {});\n",
              "          if (!dataTable) return;\n",
              "\n",
              "          const docLinkHtml = 'Like what you see? Visit the ' +\n",
              "            '<a target=\"_blank\" href=https://colab.research.google.com/notebooks/data_table.ipynb>data table notebook</a>'\n",
              "            + ' to learn more about interactive tables.';\n",
              "          element.innerHTML = '';\n",
              "          dataTable['output_type'] = 'display_data';\n",
              "          await google.colab.output.renderOutput(dataTable, element);\n",
              "          const docLink = document.createElement('div');\n",
              "          docLink.innerHTML = docLinkHtml;\n",
              "          element.appendChild(docLink);\n",
              "        }\n",
              "      </script>\n",
              "    </div>\n",
              "  </div>\n",
              "  "
            ],
            "text/plain": [
              "                                                 url  is_spam  \\\n",
              "0  https://briefingday.us8.list-manage.com/unsubs...        1   \n",
              "1                             https://www.hvper.com/        1   \n",
              "2                 https://briefingday.com/m/v4n3i4f3        1   \n",
              "3   https://briefingday.com/n/20200618/m#commentform        0   \n",
              "4                        https://briefingday.com/fan        1   \n",
              "\n",
              "                                     url_clean  \n",
              "0  briefingday us  list manage com unsubscribe  \n",
              "1                                   hvper com   \n",
              "2                   briefingday com m v n i f   \n",
              "3     briefingday com n          m commentform  \n",
              "4                          briefingday com fan  "
            ]
          },
          "execution_count": 14,
          "metadata": {},
          "output_type": "execute_result"
        }
      ],
      "source": [
        "df.head(5)"
      ]
    },
    {
      "cell_type": "markdown",
      "metadata": {
        "id": "84rSpk-70rtQ"
      },
      "source": [
        "#### Removal of stop words"
      ]
    },
    {
      "cell_type": "code",
      "execution_count": 15,
      "metadata": {
        "colab": {
          "base_uri": "https://localhost:8080/"
        },
        "id": "P9ZerIQHxxE5",
        "outputId": "0e360e1c-3117-4ea0-c9cf-c93f78390af0"
      },
      "outputs": [
        {
          "name": "stdout",
          "output_type": "stream",
          "text": [
            "['i', 'me', 'my', 'myself', 'we']\n"
          ]
        }
      ],
      "source": [
        "# Building a stop words list\n",
        "stopwords = nltk.corpus.stopwords.words('english')\n",
        "print(stopwords[:5])"
      ]
    },
    {
      "cell_type": "code",
      "execution_count": 16,
      "metadata": {
        "colab": {
          "base_uri": "https://localhost:8080/",
          "height": 466
        },
        "id": "POjgAKlYyX0V",
        "outputId": "e9ebb1ce-2a0f-4dee-f43d-349b48d6f572"
      },
      "outputs": [
        {
          "data": {
            "image/png": "[encoded data removed]",
            "text/plain": [
              "<Figure size 576x576 with 1 Axes>"
            ]
          },
          "metadata": {
            "needs_background": "light"
          },
          "output_type": "display_data"
        }
      ],
      "source": [
        "wordcloud = WordCloud(width = 800, height = 800, background_color = 'black', stopwords = stopwords, max_words = 1000\n",
        "                      , min_font_size = 20).generate(str(df['url_clean']))\n",
        "#plot the word cloud\n",
        "fig = plt.figure(figsize = (8,8), facecolor = None)\n",
        "plt.imshow(wordcloud)\n",
        "plt.axis('off')\n",
        "plt.show()"
      ]
    },
    {
      "cell_type": "code",
      "execution_count": 17,
      "metadata": {
        "id": "2J4_hCxk0WqB"
      },
      "outputs": [],
      "source": [
        "def remove_stopwords(text):\n",
        "    text=' '.join([word for word in text.split() if word not in stopwords])\n",
        "    return text"
      ]
    },
    {
      "cell_type": "code",
      "execution_count": 18,
      "metadata": {
        "id": "xTfDlGdH0iJg"
      },
      "outputs": [],
      "source": [
        "df['url_clean'] = df['url_clean'].apply(remove_stopwords)"
      ]
    },
    {
      "cell_type": "code",
      "execution_count": 19,
      "metadata": {
        "colab": {
          "base_uri": "https://localhost:8080/",
          "height": 206
        },
        "id": "tdD7cpJN0pYk",
        "outputId": "a48ccccd-65e0-4eca-f49e-0325155459ad"
      },
      "outputs": [
        {
          "data": {
            "text/html": [
              "\n",
              "  <div id=\"df-4df890d3-3930-4c91-a5c0-ce81de031dcb\">\n",
              "    <div class=\"colab-df-container\">\n",
              "      <div>\n",
              "<style scoped>\n",
              "    .dataframe tbody tr th:only-of-type {\n",
              "        vertical-align: middle;\n",
              "    }\n",
              "\n",
              "    .dataframe tbody tr th {\n",
              "        vertical-align: top;\n",
              "    }\n",
              "\n",
              "    .dataframe thead th {\n",
              "        text-align: right;\n",
              "    }\n",
              "</style>\n",
              "<table border=\"1\" class=\"dataframe\">\n",
              "  <thead>\n",
              "    <tr style=\"text-align: right;\">\n",
              "      <th></th>\n",
              "      <th>url</th>\n",
              "      <th>is_spam</th>\n",
              "      <th>url_clean</th>\n",
              "    </tr>\n",
              "  </thead>\n",
              "  <tbody>\n",
              "    <tr>\n",
              "      <th>0</th>\n",
              "      <td>https://briefingday.us8.list-manage.com/unsubs...</td>\n",
              "      <td>1</td>\n",
              "      <td>briefingday us list manage com unsubscribe</td>\n",
              "    </tr>\n",
              "    <tr>\n",
              "      <th>1</th>\n",
              "      <td>https://www.hvper.com/</td>\n",
              "      <td>1</td>\n",
              "      <td>hvper com</td>\n",
              "    </tr>\n",
              "    <tr>\n",
              "      <th>2</th>\n",
              "      <td>https://briefingday.com/m/v4n3i4f3</td>\n",
              "      <td>1</td>\n",
              "      <td>briefingday com v n f</td>\n",
              "    </tr>\n",
              "    <tr>\n",
              "      <th>3</th>\n",
              "      <td>https://briefingday.com/n/20200618/m#commentform</td>\n",
              "      <td>0</td>\n",
              "      <td>briefingday com n commentform</td>\n",
              "    </tr>\n",
              "    <tr>\n",
              "      <th>4</th>\n",
              "      <td>https://briefingday.com/fan</td>\n",
              "      <td>1</td>\n",
              "      <td>briefingday com fan</td>\n",
              "    </tr>\n",
              "  </tbody>\n",
              "</table>\n",
              "</div>\n",
              "      <button class=\"colab-df-convert\" onclick=\"convertToInteractive('df-4df890d3-3930-4c91-a5c0-ce81de031dcb')\"\n",
              "              title=\"Convert this dataframe to an interactive table.\"\n",
              "              style=\"display:none;\">\n",
              "        \n",
              "  <svg xmlns=\"http://www.w3.org/2000/svg\" height=\"24px\"viewBox=\"0 0 24 24\"\n",
              "       width=\"24px\">\n",
              "    <path d=\"M0 0h24v24H0V0z\" fill=\"none\"/>\n",
              "    <path d=\"M18.56 5.44l.94 2.06.94-2.06 2.06-.94-2.06-.94-.94-2.06-.94 2.06-2.06.94zm-11 1L8.5 8.5l.94-2.06 2.06-.94-2.06-.94L8.5 2.5l-.94 2.06-2.06.94zm10 10l.94 2.06.94-2.06 2.06-.94-2.06-.94-.94-2.06-.94 2.06-2.06.94z\"/><path d=\"M17.41 7.96l-1.37-1.37c-.4-.4-.92-.59-1.43-.59-.52 0-1.04.2-1.43.59L10.3 9.45l-7.72 7.72c-.78.78-.78 2.05 0 2.83L4 21.41c.39.39.9.59 1.41.59.51 0 1.02-.2 1.41-.59l7.78-7.78 2.81-2.81c.8-.78.8-2.07 0-2.86zM5.41 20L4 18.59l7.72-7.72 1.47 1.35L5.41 20z\"/>\n",
              "  </svg>\n",
              "      </button>\n",
              "      \n",
              "  <style>\n",
              "    .colab-df-container {\n",
              "      display:flex;\n",
              "      flex-wrap:wrap;\n",
              "      gap: 12px;\n",
              "    }\n",
              "\n",
              "    .colab-df-convert {\n",
              "      background-color: #E8F0FE;\n",
              "      border: none;\n",
              "      border-radius: 50%;\n",
              "      cursor: pointer;\n",
              "      display: none;\n",
              "      fill: #1967D2;\n",
              "      height: 32px;\n",
              "      padding: 0 0 0 0;\n",
              "      width: 32px;\n",
              "    }\n",
              "\n",
              "    .colab-df-convert:hover {\n",
              "      background-color: #E2EBFA;\n",
              "      box-shadow: 0px 1px 2px rgba(60, 64, 67, 0.3), 0px 1px 3px 1px rgba(60, 64, 67, 0.15);\n",
              "      fill: #174EA6;\n",
              "    }\n",
              "\n",
              "    [theme=dark] .colab-df-convert {\n",
              "      background-color: #3B4455;\n",
              "      fill: #D2E3FC;\n",
              "    }\n",
              "\n",
              "    [theme=dark] .colab-df-convert:hover {\n",
              "      background-color: #434B5C;\n",
              "      box-shadow: 0px 1px 3px 1px rgba(0, 0, 0, 0.15);\n",
              "      filter: drop-shadow(0px 1px 2px rgba(0, 0, 0, 0.3));\n",
              "      fill: #FFFFFF;\n",
              "    }\n",
              "  </style>\n",
              "\n",
              "      <script>\n",
              "        const buttonEl =\n",
              "          document.querySelector('#df-4df890d3-3930-4c91-a5c0-ce81de031dcb button.colab-df-convert');\n",
              "        buttonEl.style.display =\n",
              "          google.colab.kernel.accessAllowed ? 'block' : 'none';\n",
              "\n",
              "        async function convertToInteractive(key) {\n",
              "          const element = document.querySelector('#df-4df890d3-3930-4c91-a5c0-ce81de031dcb');\n",
              "          const dataTable =\n",
              "            await google.colab.kernel.invokeFunction('convertToInteractive',\n",
              "                                                     [key], {});\n",
              "          if (!dataTable) return;\n",
              "\n",
              "          const docLinkHtml = 'Like what you see? Visit the ' +\n",
              "            '<a target=\"_blank\" href=https://colab.research.google.com/notebooks/data_table.ipynb>data table notebook</a>'\n",
              "            + ' to learn more about interactive tables.';\n",
              "          element.innerHTML = '';\n",
              "          dataTable['output_type'] = 'display_data';\n",
              "          await google.colab.output.renderOutput(dataTable, element);\n",
              "          const docLink = document.createElement('div');\n",
              "          docLink.innerHTML = docLinkHtml;\n",
              "          element.appendChild(docLink);\n",
              "        }\n",
              "      </script>\n",
              "    </div>\n",
              "  </div>\n",
              "  "
            ],
            "text/plain": [
              "                                                 url  is_spam  \\\n",
              "0  https://briefingday.us8.list-manage.com/unsubs...        1   \n",
              "1                             https://www.hvper.com/        1   \n",
              "2                 https://briefingday.com/m/v4n3i4f3        1   \n",
              "3   https://briefingday.com/n/20200618/m#commentform        0   \n",
              "4                        https://briefingday.com/fan        1   \n",
              "\n",
              "                                    url_clean  \n",
              "0  briefingday us list manage com unsubscribe  \n",
              "1                                   hvper com  \n",
              "2                       briefingday com v n f  \n",
              "3               briefingday com n commentform  \n",
              "4                         briefingday com fan  "
            ]
          },
          "execution_count": 19,
          "metadata": {},
          "output_type": "execute_result"
        }
      ],
      "source": [
        "df.head(5)"
      ]
    },
    {
      "cell_type": "markdown",
      "metadata": {
        "id": "pKhpAViFqrY3"
      },
      "source": [
        "## Construction of the model and results"
      ]
    },
    {
      "cell_type": "markdown",
      "metadata": {
        "id": "XQvX3sejvVWE"
      },
      "source": [
        "Using CountVectorizer() to transform the body of text into a sparse matrix of numbers that the computer can pass to machine learning algorithm."
      ]
    },
    {
      "cell_type": "code",
      "execution_count": 20,
      "metadata": {
        "id": "eQBFR7PTvdXV"
      },
      "outputs": [],
      "source": [
        "# Create sparse matrix\n",
        "message_vectorizer = CountVectorizer().fit_transform(df['url_clean'])"
      ]
    },
    {
      "cell_type": "code",
      "execution_count": 21,
      "metadata": {
        "colab": {
          "base_uri": "https://localhost:8080/"
        },
        "id": "9mZENv3Qqu04",
        "outputId": "2ef10598-93ce-4478-bde9-09050efa5845"
      },
      "outputs": [
        {
          "name": "stdout",
          "output_type": "stream",
          "text": [
            "(1302, 5908) (1067, 5908) (1302,) (1067,)\n"
          ]
        }
      ],
      "source": [
        "# Spliting the dataset into training and testing\n",
        "X_train, X_test, y_train, y_test = train_test_split(message_vectorizer, df['is_spam'], test_size = 0.45, random_state = 42, shuffle = True)\n",
        "print(X_train.shape,X_test.shape,y_train.shape,y_test.shape)"
      ]
    },
    {
      "cell_type": "markdown",
      "metadata": {
        "id": "i9Dl14CjwBWF"
      },
      "source": [
        "The classifier algorithm is using Support Vector Machine."
      ]
    },
    {
      "cell_type": "code",
      "execution_count": 22,
      "metadata": {
        "colab": {
          "base_uri": "https://localhost:8080/"
        },
        "id": "LIq9y2L_v9Nd",
        "outputId": "11ff7912-e82c-463f-c703-14b17e5e824e"
      },
      "outputs": [
        {
          "data": {
            "text/plain": [
              "SVC(gamma='auto', kernel='linear')"
            ]
          },
          "execution_count": 22,
          "metadata": {},
          "output_type": "execute_result"
        }
      ],
      "source": [
        "classifier = svm.SVC(C=1.0, kernel='linear', degree=3, gamma='auto')\n",
        "classifier.fit(X_train, y_train)"
      ]
    },
    {
      "cell_type": "code",
      "execution_count": 24,
      "metadata": {
        "id": "f4pJDh893XBR"
      },
      "outputs": [],
      "source": [
        "y_pred = classifier.predict(X_test)"
      ]
    },
    {
      "cell_type": "markdown",
      "metadata": {
        "id": "aXl-Rxw-YHdC"
      },
      "source": [
        "#### Model Evaluation"
      ]
    },
    {
      "cell_type": "code",
      "execution_count": 25,
      "metadata": {
        "colab": {
          "base_uri": "https://localhost:8080/",
          "height": 696
        },
        "id": "NH-cj73yUKPG",
        "outputId": "2fb87d14-e462-426a-f570-1dbcb255b42d"
      },
      "outputs": [
        {
          "data": {
            "image/png": "[encoded data removed]",
            "text/plain": [
              "<Figure size 432x288 with 2 Axes>"
            ]
          },
          "metadata": {
            "needs_background": "light"
          },
          "output_type": "display_data"
        },
        {
          "name": "stdout",
          "output_type": "stream",
          "text": [
            "\n",
            "\n",
            "              precision    recall  f1-score   support\n",
            "\n",
            "           0       0.95      0.96      0.96       959\n",
            "           1       0.63      0.55      0.59       108\n",
            "\n",
            "    accuracy                           0.92      1067\n",
            "   macro avg       0.79      0.76      0.77      1067\n",
            "weighted avg       0.92      0.92      0.92      1067\n",
            "\n",
            "\n",
            "\n",
            "Support Vector Machine Mean absolute error: 0.07778819119025304\n",
            "\n",
            "\n",
            "Support Vector Machine Train Accuracy =  0.9900153609831029\n",
            "Support Vector Machine Test Accuracy =  0.922211808809747\n",
            "\n",
            "\n",
            "Support Vector Machine Precision score: 0.6344086021505376\n",
            "\n",
            "\n",
            "Support Vector Machine Recall score: 0.5462962962962963\n"
          ]
        }
      ],
      "source": [
        "cm = confusion_matrix(y_test, y_pred, labels=classifier.classes_)\n",
        "disp = ConfusionMatrixDisplay(confusion_matrix=cm,\n",
        "display_labels=classifier.classes_)\n",
        "disp.plot()\n",
        "plt.show()\n",
        "print(\"\\n\")\n",
        "print(classification_report(y_test,y_pred))\n",
        "print(\"\\n\")\n",
        "print(\"Support Vector Machine Mean absolute error:\", mean_absolute_error(y_test, y_pred))\n",
        "print(\"\\n\")\n",
        "print('Support Vector Machine Train Accuracy = ',accuracy_score(y_train,classifier.predict(X_train)))\n",
        "print('Support Vector Machine Test Accuracy = ',accuracy_score(y_test,classifier.predict(X_test)))\n",
        "print(\"\\n\")\n",
        "print(\"Support Vector Machine Precision score:\",precision_score(y_test, y_pred))\n",
        "print(\"\\n\")\n",
        "print(\"Support Vector Machine Recall score:\",recall_score(y_test, y_pred))"
      ]
    }
  ],
  "metadata": {
    "colab": {
      "collapsed_sections": [],
      "provenance": [],
      "toc_visible": true
    },
    "kernelspec": {
      "display_name": "Python 3.8.13 64-bit ('shims')",
      "language": "python",
      "name": "python3"
    },
    "language_info": {
      "name": "python",
      "version": "3.8.13"
    },
    "vscode": {
      "interpreter": {
        "hash": "9ac03a0a6051494cc606d484d27d20fce22fb7b4d169f583271e11d5ba46a56e"
      }
    }
  },
  "nbformat": 4,
  "nbformat_minor": 0
}
